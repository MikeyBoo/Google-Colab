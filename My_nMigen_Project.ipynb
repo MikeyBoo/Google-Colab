{
  "nbformat": 4,
  "nbformat_minor": 0,
  "metadata": {
    "colab": {
      "name": "My_nMigen_Project.ipynb",
      "provenance": [],
      "collapsed_sections": [],
      "include_colab_link": true
    },
    "kernelspec": {
      "display_name": "Python 3",
      "language": "python",
      "name": "python3"
    },
    "language_info": {
      "codemirror_mode": {
        "name": "ipython",
        "version": 3
      },
      "file_extension": ".py",
      "mimetype": "text/x-python",
      "name": "python",
      "nbconvert_exporter": "python",
      "pygments_lexer": "ipython3",
      "version": "3.6.9"
    }
  },
  "cells": [
    {
      "cell_type": "markdown",
      "metadata": {
        "id": "view-in-github",
        "colab_type": "text"
      },
      "source": [
        "<a href=\"https://colab.research.google.com/github/MikeyBoo/GoogleColab/blob/master/My_nMigen_Project.ipynb\" target=\"_parent\"><img src=\"https://colab.research.google.com/assets/colab-badge.svg\" alt=\"Open In Colab\"/></a>"
      ]
    },
    {
      "cell_type": "markdown",
      "metadata": {
        "colab_type": "text",
        "id": "7K4ha04UpQ7o"
      },
      "source": [
        "## Installing SymbiYosys and Other Dependencies\n",
        "#### various notes\n",
        "Gaining root previlges on Ubuntu systems, use hte follwing commands while opening Jupyter Notebook:\n",
        "\n",
        "sudo bash\n",
        "\n",
        "jupyter notebook --allow-root\n",
        "\n",
        "#### Building on Raspberry Pi\n",
        "To avoid thrashing on Raspberry Pi\n",
        "\n",
        "!export MAX_JOBS=2"
      ]
    },
    {
      "cell_type": "code",
      "metadata": {
        "colab_type": "code",
        "id": "SSuoF9fhpQ8C",
        "scrolled": true,
        "colab": {}
      },
      "source": [
        "!sudo apt-get update --yes\n",
        "!sudo apt-get upgrade --yes\n",
        "!sudo apt-get install --yes curl\n",
        "!sudo apt-get install -y --fix-missing build-essential clang bison flex libreadline-dev \\\n",
        "                     gawk tcl-dev libssl-dev libffi-dev git mercurial graphviz   \\\n",
        "                     xdot pkg-config python python3 python-dev libftdi-dev gperf \\\n",
        "                     libboost-program-options-dev autoconf libgmp-dev cmake"
      ],
      "execution_count": 0,
      "outputs": []
    },
    {
      "cell_type": "code",
      "metadata": {
        "colab_type": "code",
        "id": "5sfk-fg4pQ8a",
        "colab": {}
      },
      "source": [
        "%cd ~\n",
        "!mkdir nMigen_Project\n",
        "%cd nMigen_Project"
      ],
      "execution_count": 0,
      "outputs": []
    },
    {
      "cell_type": "code",
      "metadata": {
        "colab_type": "code",
        "id": "hDE9boospQ8q",
        "colab": {}
      },
      "source": [
        "!git clone https://github.com/YosysHQ/yosys.git yosys\n",
        "%cd yosys\n",
        "!make -j$(nproc)\n",
        "!sudo make install\n",
        "%cd ~/nMigen_Project"
      ],
      "execution_count": 0,
      "outputs": []
    },
    {
      "cell_type": "code",
      "metadata": {
        "colab_type": "code",
        "id": "s7GIrfKIpQ84",
        "colab": {}
      },
      "source": [
        "!git clone https://github.com/YosysHQ/SymbiYosys.git SymbiYosys\n",
        "%cd SymbiYosys\n",
        "!sudo make install\n",
        "%cd ~/nMigen_Project"
      ],
      "execution_count": 0,
      "outputs": []
    },
    {
      "cell_type": "code",
      "metadata": {
        "colab_type": "code",
        "id": "t4EKgYyApQ9I",
        "colab": {}
      },
      "source": [
        "!git clone https://github.com/SRI-CSL/yices2.git yices2\n",
        "%cd yices2\n",
        "!autoconf\n",
        "!./configure\n",
        "!make -j$(nproc)\n",
        "!sudo make install\n",
        "%cd ~/nMigen_Project"
      ],
      "execution_count": 0,
      "outputs": []
    },
    {
      "cell_type": "code",
      "metadata": {
        "colab_type": "code",
        "id": "8EamuNLOpQ9W",
        "colab": {}
      },
      "source": [
        "!git clone https://github.com/Z3Prover/z3.git z3\n",
        "%cd z3\n",
        "!python scripts/mk_make.py\n",
        "%cd build\n",
        "!make -j$(nproc)\n",
        "!sudo make install\n",
        "%cd ~/nMigen_Project"
      ],
      "execution_count": 0,
      "outputs": []
    },
    {
      "cell_type": "code",
      "metadata": {
        "colab_type": "code",
        "id": "7qWwGjJ6pQ9g",
        "colab": {}
      },
      "source": [
        "!git clone https://github.com/boolector/boolector\n",
        "%cd boolector\n",
        "!./contrib/setup-btor2tools.sh\n",
        "!./contrib/setup-lingeling.sh\n",
        "!./configure.sh\n",
        "!make -C build -j$(nproc)\n",
        "!sudo cp build/bin/{boolector,btor*} /usr/local/bin/\n",
        "!sudo cp deps/btor2tools/bin/btorsim /usr/local/bin/\n",
        "%cd ~/nMigen_Project"
      ],
      "execution_count": 0,
      "outputs": []
    },
    {
      "cell_type": "markdown",
      "metadata": {
        "colab_type": "text",
        "id": "fAth-RwBpQ9p"
      },
      "source": [
        "## Collecting Required Python Modules\n",
        "!{sys.executable} runs proper python environment used within current Jupyter Notebook"
      ]
    },
    {
      "cell_type": "code",
      "metadata": {
        "colab_type": "code",
        "id": "RwNy2yjlpQ9t",
        "colab": {}
      },
      "source": [
        "import sys\n",
        "!{sys.executable} -m pip install wheel\n",
        "!{sys.executable} -m pip install git+https://github.com/m-labs/nmigen.git"
      ],
      "execution_count": 0,
      "outputs": []
    },
    {
      "cell_type": "code",
      "metadata": {
        "colab_type": "code",
        "id": "gfGfAqMJpQ95",
        "colab": {}
      },
      "source": [
        "!sudo apt-get install --yes gtkwave"
      ],
      "execution_count": 0,
      "outputs": []
    },
    {
      "cell_type": "code",
      "metadata": {
        "colab_type": "code",
        "id": "zSKSwqpopQ-F",
        "colab": {}
      },
      "source": [
        "!sudo apt-get install --yes --fix-missing build-essential clang bison flex libreadline-dev \\\n",
        "                     gawk tcl-dev libffi-dev git mercurial graphviz   \\\n",
        "                     xdot pkg-config python python3 libftdi-dev \\\n",
        "                     qt5-default python3-dev libboost-all-dev cmake libeigen3-dev"
      ],
      "execution_count": 0,
      "outputs": []
    },
    {
      "cell_type": "code",
      "metadata": {
        "id": "Na9CBtSuL-Y-",
        "colab_type": "code",
        "colab": {}
      },
      "source": [
        "!sudo apt-get install --yes g++-7 gcc-7"
      ],
      "execution_count": 0,
      "outputs": []
    },
    {
      "cell_type": "code",
      "metadata": {
        "id": "_AMv4HeiL-ZV",
        "colab_type": "code",
        "colab": {}
      },
      "source": [
        "!sudo apt-get install --yes qt5-base qt5-default"
      ],
      "execution_count": 0,
      "outputs": []
    },
    {
      "cell_type": "code",
      "metadata": {
        "colab_type": "code",
        "id": "mRM7YPQO3qP3",
        "colab": {}
      },
      "source": [
        "!git clone https://github.com/cliffordwolf/icestorm.git icestorm\n",
        "%cd icestorm\n",
        "!make -j$(nproc)\n",
        "!sudo make install\n",
        "%cd ~/nMigen_Project"
      ],
      "execution_count": 0,
      "outputs": []
    },
    {
      "cell_type": "code",
      "metadata": {
        "id": "PUm6gpa8L-aL",
        "colab_type": "code",
        "colab": {}
      },
      "source": [
        "!sudo strip --remove-section=.note.ABI-tag /usr/lib/x86_64-linux-gnu/libQt5Core.so.5"
      ],
      "execution_count": 0,
      "outputs": []
    },
    {
      "cell_type": "code",
      "metadata": {
        "colab_type": "code",
        "id": "j2C2UYVX4H8M",
        "colab": {}
      },
      "source": [
        "!git clone https://github.com/YosysHQ/nextpnr nextpnr\n",
        "%cd nextpnr\n",
        "!cmake -DARCH=ice40 -DCMAKE_INSTALL_PREFIX=/usr/local .\n",
        "!make -j$(nproc)\n",
        "!sudo make install\n",
        "%cd ~/nMigen_Project"
      ],
      "execution_count": 0,
      "outputs": []
    },
    {
      "cell_type": "code",
      "metadata": {
        "colab_type": "code",
        "id": "iG5zD7fW4o_k",
        "colab": {}
      },
      "source": [
        "from nmigen import *"
      ],
      "execution_count": 0,
      "outputs": []
    },
    {
      "cell_type": "markdown",
      "metadata": {
        "id": "hLobJl8yL-a7",
        "colab_type": "text"
      },
      "source": [
        "# Shapes"
      ]
    },
    {
      "cell_type": "code",
      "metadata": {
        "colab_type": "code",
        "id": "Pac7Z4fQ7sEJ",
        "colab": {}
      },
      "source": [
        "a = Const(10)"
      ],
      "execution_count": 0,
      "outputs": []
    },
    {
      "cell_type": "code",
      "metadata": {
        "colab_type": "code",
        "id": "GPZpbyl_7usB",
        "colab": {}
      },
      "source": [
        "a.shape()"
      ],
      "execution_count": 0,
      "outputs": []
    },
    {
      "cell_type": "code",
      "metadata": {
        "colab_type": "code",
        "id": "xpEnIMUL7wxv",
        "colab": {}
      },
      "source": [
        "a.width"
      ],
      "execution_count": 0,
      "outputs": []
    },
    {
      "cell_type": "code",
      "metadata": {
        "colab_type": "code",
        "id": "3J7kpDmC8Epj",
        "colab": {}
      },
      "source": [
        "a.signed"
      ],
      "execution_count": 0,
      "outputs": []
    },
    {
      "cell_type": "code",
      "metadata": {
        "colab_type": "code",
        "id": "plnGocv08GO6",
        "colab": {}
      },
      "source": [
        "a = Const(-10)"
      ],
      "execution_count": 0,
      "outputs": []
    },
    {
      "cell_type": "code",
      "metadata": {
        "colab_type": "code",
        "id": "uBgDEo4iA55j",
        "colab": {}
      },
      "source": [
        "a.shape()"
      ],
      "execution_count": 0,
      "outputs": []
    },
    {
      "cell_type": "code",
      "metadata": {
        "colab_type": "code",
        "id": "VX3sL-5sA7-P",
        "colab": {}
      },
      "source": [
        "x = Const(3, range(-5,11))\n",
        "x.shape()"
      ],
      "execution_count": 0,
      "outputs": []
    },
    {
      "cell_type": "code",
      "metadata": {
        "id": "xX_tUMhVL-cf",
        "colab_type": "code",
        "colab": {}
      },
      "source": [
        "from enum import Enum, unique"
      ],
      "execution_count": 0,
      "outputs": []
    },
    {
      "cell_type": "markdown",
      "metadata": {
        "id": "r5wWWQh2L-c6",
        "colab_type": "text"
      },
      "source": [
        "finds minimum and maximum value of the enum and then using that as the range for the constant"
      ]
    },
    {
      "cell_type": "code",
      "metadata": {
        "id": "rlsHGTtUL-dH",
        "colab_type": "code",
        "colab": {}
      },
      "source": [
        "@unique\n",
        "class Func(Enum):\n",
        "    NONE = 0\n",
        "    ADD = 1\n",
        "    SUB = 2\n",
        "    MUL = 3\n",
        "    DIV = 4"
      ],
      "execution_count": 0,
      "outputs": []
    },
    {
      "cell_type": "code",
      "metadata": {
        "id": "M5n5EYQdL-db",
        "colab_type": "code",
        "colab": {}
      },
      "source": [
        "x = Const(2, Func)\n",
        "x.shape()"
      ],
      "execution_count": 0,
      "outputs": []
    },
    {
      "cell_type": "markdown",
      "metadata": {
        "id": "B8T1SftdL-do",
        "colab_type": "text"
      },
      "source": [
        "# Signals"
      ]
    },
    {
      "cell_type": "code",
      "metadata": {
        "id": "Y_DhyAfVL-do",
        "colab_type": "code",
        "colab": {}
      },
      "source": [
        "a = Signal(signed(16))\n",
        "a.shape()\n"
      ],
      "execution_count": 0,
      "outputs": []
    },
    {
      "cell_type": "code",
      "metadata": {
        "id": "Txq_hRgWL-d3",
        "colab_type": "code",
        "colab": {}
      },
      "source": [
        "a.width"
      ],
      "execution_count": 0,
      "outputs": []
    },
    {
      "cell_type": "code",
      "metadata": {
        "id": "8z35AaZuL-eI",
        "colab_type": "code",
        "colab": {}
      },
      "source": [
        "a.signed"
      ],
      "execution_count": 0,
      "outputs": []
    },
    {
      "cell_type": "markdown",
      "metadata": {
        "id": "4RAV-X3KL-eT",
        "colab_type": "text"
      },
      "source": [
        "#### Signal from range"
      ]
    },
    {
      "cell_type": "code",
      "metadata": {
        "id": "n6bOIP9ML-eX",
        "colab_type": "code",
        "colab": {}
      },
      "source": [
        "Signal(range(11))"
      ],
      "execution_count": 0,
      "outputs": []
    },
    {
      "cell_type": "code",
      "metadata": {
        "id": "Z1G9zyBxL-ej",
        "colab_type": "code",
        "colab": {}
      },
      "source": [
        "x = Signal(range(-5, 11))"
      ],
      "execution_count": 0,
      "outputs": []
    },
    {
      "cell_type": "code",
      "metadata": {
        "id": "IO6ZNCjfL-et",
        "colab_type": "code",
        "colab": {}
      },
      "source": [
        "x.shape()"
      ],
      "execution_count": 0,
      "outputs": []
    },
    {
      "cell_type": "code",
      "metadata": {
        "id": "jCG3bG4NL-e1",
        "colab_type": "code",
        "colab": {}
      },
      "source": [
        "@unique\n",
        "class Func(Enum):\n",
        "    NONE = 0\n",
        "    ADD = 1\n",
        "    SUB = 2\n",
        "    MUL = 3\n",
        "    DIV = 4\n",
        "    \n",
        "x = Signal(Func)\n",
        "\n",
        "##Same is Signal.range(0, 5)"
      ],
      "execution_count": 0,
      "outputs": []
    },
    {
      "cell_type": "code",
      "metadata": {
        "id": "fiPbuxgQL-fC",
        "colab_type": "code",
        "colab": {}
      },
      "source": [
        "x.shape()"
      ],
      "execution_count": 0,
      "outputs": []
    },
    {
      "cell_type": "code",
      "metadata": {
        "id": "eDG1VA6GL-fR",
        "colab_type": "code",
        "colab": {}
      },
      "source": [
        "x = Signal(unsigned(16))\n",
        "x.name"
      ],
      "execution_count": 0,
      "outputs": []
    },
    {
      "cell_type": "code",
      "metadata": {
        "id": "4XmVJyYHL-fd",
        "colab_type": "code",
        "colab": {}
      },
      "source": [
        "x = Signal(unsigned(16), name=\"addr\")\n",
        "x.name"
      ],
      "execution_count": 0,
      "outputs": []
    },
    {
      "cell_type": "code",
      "metadata": {
        "scrolled": false,
        "id": "aUHlptp3L-fl",
        "colab_type": "code",
        "colab": {}
      },
      "source": [
        "!gtkwave"
      ],
      "execution_count": 0,
      "outputs": []
    },
    {
      "cell_type": "markdown",
      "metadata": {
        "id": "csC68OzKL-fv",
        "colab_type": "text"
      },
      "source": [
        "## Modules\n",
        "#### Basic structure"
      ]
    },
    {
      "cell_type": "code",
      "metadata": {
        "id": "kXPr0AoHL-fx",
        "colab_type": "code",
        "colab": {}
      },
      "source": [
        "from nmigen.build import Platform\n",
        "\n",
        "class ThingBlock(Elaboratable):\n",
        "    def __init__(self):\n",
        "        pass\n",
        "    \n",
        "    def elaborate(self, platform: Platform) -> Module:\n",
        "        m = Module()\n",
        "        return m"
      ],
      "execution_count": 0,
      "outputs": []
    },
    {
      "cell_type": "markdown",
      "metadata": {
        "id": "bRsPGBDuL-f5",
        "colab_type": "text"
      },
      "source": [
        "#### Elaborating a module"
      ]
    },
    {
      "cell_type": "code",
      "metadata": {
        "id": "TEpGHDddL-f6",
        "colab_type": "code",
        "colab": {}
      },
      "source": [
        "%%writefile thing.py\n",
        "\n",
        "from nmigen import *\n",
        "from nmigen.build import Platform\n",
        "\n",
        "class ThingBlock(Elaboratable):\n",
        "    def __init__(self):\n",
        "        pass\n",
        "\n",
        "    def elaborate(self, platform: Platform) -> Module:\n",
        "        m = Module()\n",
        "        return m\n",
        "\n",
        "from nmigen.cli import main\n",
        "\n",
        "if __name__ == \"__main__\":\n",
        "    sync = ClockDomain()\n",
        "    \n",
        "    block = ThingBlock()\n",
        "    \n",
        "    m = Module()\n",
        "    m.domains += sync\n",
        "    m.submodules += block\n",
        "    \n",
        "    main(m, ports=[sync.clk, sync.rst])\n",
        "    "
      ],
      "execution_count": 0,
      "outputs": []
    },
    {
      "cell_type": "markdown",
      "metadata": {
        "id": "wQ85oTh2L-gC",
        "colab_type": "text"
      },
      "source": [
        "## Domains\n",
        "\n",
        "A domain, in its basic definition, is a grouping of logic elements. If we consider a module as a black box with inputs and outputs, then any given output is generated within one and only one domain. If you attempt to set an output in more than one domain, you'll get an error during elaboration that the signal has more than one driver -- a \"driver-driver conflict\".\n",
        "\n",
        "Modules come with two domains built in: a combinatorial domain and a synchronous domain.\n",
        "\n",
        "The domains in a Module can be accessed through its d attribute."
      ]
    },
    {
      "cell_type": "code",
      "metadata": {
        "id": "lm0s0O7dL-gE",
        "colab_type": "code",
        "colab": {}
      },
      "source": [
        "!{sys.executable} thing.py generate -t v > thing.v"
      ],
      "execution_count": 0,
      "outputs": []
    },
    {
      "cell_type": "code",
      "metadata": {
        "scrolled": true,
        "id": "JAlBf335L-gL",
        "colab_type": "code",
        "colab": {}
      },
      "source": [
        "!ls"
      ],
      "execution_count": 0,
      "outputs": []
    },
    {
      "cell_type": "code",
      "metadata": {
        "id": "z7PLcsxsL-gV",
        "colab_type": "code",
        "colab": {}
      },
      "source": [
        "m.d.comb\n"
      ],
      "execution_count": 0,
      "outputs": []
    },
    {
      "cell_type": "code",
      "metadata": {
        "id": "Az5mQ_L9L-gf",
        "colab_type": "code",
        "colab": {}
      },
      "source": [
        "m.d.sync"
      ],
      "execution_count": 0,
      "outputs": []
    },
    {
      "cell_type": "code",
      "metadata": {
        "id": "9tnJEcavL-gr",
        "colab_type": "code",
        "colab": {}
      },
      "source": [
        "m.d.myclk"
      ],
      "execution_count": 0,
      "outputs": []
    },
    {
      "cell_type": "code",
      "metadata": {
        "id": "2-e0AtvdL-g0",
        "colab_type": "code",
        "colab": {}
      },
      "source": [
        "m = Module()\n",
        "c = ClockDomain(myclk)\n",
        "\n",
        "m.domains += c"
      ],
      "execution_count": 0,
      "outputs": []
    },
    {
      "cell_type": "markdown",
      "metadata": {
        "id": "qGPZetOUL-g_",
        "colab_type": "text"
      },
      "source": [
        "## Ports\n",
        "The equivalent of ports in a module is public attributes. In the following example, a and data are publically available to other modules, while b is not, just as a and data are publically available to other Python classes, and b is not."
      ]
    },
    {
      "cell_type": "code",
      "metadata": {
        "id": "bxkgP5cpL-hB",
        "colab_type": "code",
        "colab": {}
      },
      "source": [
        "class ThingBlock(Elaboratable):\n",
        "    def __init__(self):\n",
        "        self.a = Signal()\n",
        "        self.data = Signal(8)\n",
        "        \n",
        "    def elaborate(self, platofrm: str):\n",
        "        m = Module()\n",
        "        \n",
        "        b = Signal()\n",
        "        \n",
        "        return m"
      ],
      "execution_count": 0,
      "outputs": []
    },
    {
      "cell_type": "markdown",
      "metadata": {
        "id": "7OwjNRlML-hL",
        "colab_type": "text"
      },
      "source": [
        "If a signal is set in the combinatorial domain, then you can specify the default value of the signal if it is not set. By default, this is zero, but for a non-zero value, you can specify the default value for a signal when constructing the signal by setting the reset named parameter in the constructor. For example, this creates a 16-bit unsigned signal, self.x, which defaults to 0x1000 if not set:"
      ]
    },
    {
      "cell_type": "code",
      "metadata": {
        "id": "CDKbnji8L-hO",
        "colab_type": "code",
        "colab": {}
      },
      "source": [
        "x = Signal(unsigned(16), reset=0x1000)"
      ],
      "execution_count": 0,
      "outputs": []
    },
    {
      "cell_type": "code",
      "metadata": {
        "id": "joKsu81gL-hY",
        "colab_type": "code",
        "colab": {}
      },
      "source": [
        "x.shape()"
      ],
      "execution_count": 0,
      "outputs": []
    },
    {
      "cell_type": "markdown",
      "metadata": {
        "id": "eBlBme30L-ho",
        "colab_type": "text"
      },
      "source": [
        "This would create a 16-bit unsigned signal that is initially set to 0x1000, but is not reset to that value when the domain's reset signal is activated."
      ]
    },
    {
      "cell_type": "code",
      "metadata": {
        "id": "Kh5CrN29L-hq",
        "colab_type": "code",
        "colab": {}
      },
      "source": [
        "x = Signal(unsigned(16), reset=0x1000, reset_less=True)"
      ],
      "execution_count": 0,
      "outputs": []
    },
    {
      "cell_type": "code",
      "metadata": {
        "id": "UpPBMIaYL-hy",
        "colab_type": "code",
        "colab": {}
      },
      "source": [
        ""
      ],
      "execution_count": 0,
      "outputs": []
    },
    {
      "cell_type": "code",
      "metadata": {
        "id": "73nyYCneL-h8",
        "colab_type": "code",
        "colab": {}
      },
      "source": [
        "s1 = Signal(4)\n",
        "s2 = Signal(4)\n",
        "v = s1 + s2\n",
        "v.shape()"
      ],
      "execution_count": 0,
      "outputs": []
    },
    {
      "cell_type": "markdown",
      "metadata": {
        "id": "kN9M6uerL-iF",
        "colab_type": "text"
      },
      "source": [
        "## Multiplexing signals"
      ]
    },
    {
      "cell_type": "code",
      "metadata": {
        "id": "lr4Yk3Y-L-iH",
        "colab_type": "code",
        "colab": {}
      },
      "source": [
        "y = Signal(4)\n",
        "cond = True\n",
        "y.eq(Mux(cond, s1, s2))"
      ],
      "execution_count": 0,
      "outputs": []
    },
    {
      "cell_type": "markdown",
      "metadata": {
        "id": "zcVxWp3sL-iT",
        "colab_type": "text"
      },
      "source": [
        "## Placing statements in domains\n",
        "\n",
        "Statements are written in the combinatorial domain of a module, or in a sequential domain (clock domain) of a module. The equivalent in Verilog is continuous assignment and clocked assignment.\n",
        "\n",
        "So if you have a module m, you can add a statement that x gets the value of y+1 all the time like this:\n",
        "\n",
        "m.d.comb += x.eq(y+1)\n",
        "\n",
        "On the other hand, if you have a clock domain sync that is clocked on the positive edge, then you can add a statement that x gets the value of y+1 on the positive edge of the clock of sync like this:\n",
        "\n",
        "m.d.sync += x.eq(y+1)\n",
        "\n",
        "The += operator for a domain can take one statement, or an array of statements, which can be convenient:\n",
        "\n",
        "m.d.comb += [\n",
        "    x.eq(y+1),\n",
        "    z.eq(w+2),\n",
        "]"
      ]
    },
    {
      "cell_type": "code",
      "metadata": {
        "id": "mYD7_-d-L-iU",
        "colab_type": "code",
        "colab": {}
      },
      "source": [
        "!nextpnr-ice40 --gui"
      ],
      "execution_count": 0,
      "outputs": []
    },
    {
      "cell_type": "code",
      "metadata": {
        "id": "uxIXZJvJL-ig",
        "colab_type": "code",
        "colab": {}
      },
      "source": [
        "!nextpnr"
      ],
      "execution_count": 0,
      "outputs": []
    },
    {
      "cell_type": "code",
      "metadata": {
        "id": "drMgdsxDL-in",
        "colab_type": "code",
        "colab": {}
      },
      "source": [
        ""
      ],
      "execution_count": 0,
      "outputs": []
    }
  ]
}